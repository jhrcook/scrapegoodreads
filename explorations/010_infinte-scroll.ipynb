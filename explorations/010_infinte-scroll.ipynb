{
 "cells": [
  {
   "cell_type": "code",
   "execution_count": 1,
   "metadata": {},
   "outputs": [],
   "source": [
    "from bs4 import BeautifulSoup\n",
    "from selenium import webdriver\n",
    "from selenium.webdriver.common.by import By\n",
    "import time\n",
    "import re\n",
    "from selenium.webdriver.common.keys import Keys\n"
   ]
  },
  {
   "cell_type": "code",
   "execution_count": 75,
   "metadata": {},
   "outputs": [],
   "source": [
    "driver = webdriver.Safari()\n",
    "driver.get(\"https://www.goodreads.com/review/list/144433284?ref=nav_mybooks\")\n"
   ]
  },
  {
   "cell_type": "code",
   "execution_count": 77,
   "metadata": {},
   "outputs": [],
   "source": [
    "def infinite_scroll_status(soup: BeautifulSoup) -> tuple[int, int]:\n",
    "    status = soup.find(id=\"infiniteStatus\").text.strip()\n",
    "    nums = [int(x) for x in re.findall(\"[0-9]+\", status)]\n",
    "    assert len(nums) == 2\n",
    "    return (nums[0], nums[1])\n"
   ]
  },
  {
   "cell_type": "code",
   "execution_count": 78,
   "metadata": {},
   "outputs": [
    {
     "name": "stdout",
     "output_type": "stream",
     "text": [
      "Scrolling #0...\n",
      "Scrolling #1...\n",
      "Scrolling #2...\n",
      "Scrolling #3...\n",
      "Scrolling #4...\n",
      "Scrolling #5...\n",
      "Scrolling #6...\n",
      "Scrolling #7...\n",
      "Finish scrolling!\n"
     ]
    }
   ],
   "source": [
    "for i in range(50):\n",
    "    print(f\"Scrolling #{i}...\")\n",
    "    driver.execute_script(\"window.scrollTo(1,50000)\")\n",
    "    current_i, total = infinite_scroll_status(BeautifulSoup(driver.page_source))\n",
    "    if current_i == total:\n",
    "        print(\"Finish scrolling!\")\n",
    "        break\n",
    "    time.sleep(2)\n"
   ]
  },
  {
   "cell_type": "code",
   "execution_count": 79,
   "metadata": {},
   "outputs": [
    {
     "ename": "InvalidSessionIdException",
     "evalue": "Message: \n",
     "output_type": "error",
     "traceback": [
      "\u001b[0;31m---------------------------------------------------------------------------\u001b[0m",
      "\u001b[0;31mInvalidSessionIdException\u001b[0m                 Traceback (most recent call last)",
      "\u001b[1;32m/Users/admin/Developer/Python/scrapegoodreads/explorations/010_infinte-scroll.ipynb Cell 7'\u001b[0m in \u001b[0;36m<module>\u001b[0;34m\u001b[0m\n\u001b[0;32m----> <a href='vscode-notebook-cell:/Users/admin/Developer/Python/scrapegoodreads/explorations/010_infinte-scroll.ipynb#ch0000014?line=0'>1</a>\u001b[0m page \u001b[39m=\u001b[39m driver\u001b[39m.\u001b[39;49mpage_source\n",
      "File \u001b[0;32m~/Developer/Python/scrapegoodreads/.env/lib/python3.10/site-packages/selenium/webdriver/remote/webdriver.py:926\u001b[0m, in \u001b[0;36mWebDriver.page_source\u001b[0;34m(self)\u001b[0m\n\u001b[1;32m    <a href='file:///~/Developer/Python/scrapegoodreads/.env/lib/python3.10/site-packages/selenium/webdriver/remote/webdriver.py?line=915'>916</a>\u001b[0m \u001b[39m@property\u001b[39m\n\u001b[1;32m    <a href='file:///~/Developer/Python/scrapegoodreads/.env/lib/python3.10/site-packages/selenium/webdriver/remote/webdriver.py?line=916'>917</a>\u001b[0m \u001b[39mdef\u001b[39;00m \u001b[39mpage_source\u001b[39m(\u001b[39mself\u001b[39m) \u001b[39m-\u001b[39m\u001b[39m>\u001b[39m \u001b[39mstr\u001b[39m:\n\u001b[1;32m    <a href='file:///~/Developer/Python/scrapegoodreads/.env/lib/python3.10/site-packages/selenium/webdriver/remote/webdriver.py?line=917'>918</a>\u001b[0m     \u001b[39m\"\"\"\u001b[39;00m\n\u001b[1;32m    <a href='file:///~/Developer/Python/scrapegoodreads/.env/lib/python3.10/site-packages/selenium/webdriver/remote/webdriver.py?line=918'>919</a>\u001b[0m \u001b[39m    Gets the source of the current page.\u001b[39;00m\n\u001b[1;32m    <a href='file:///~/Developer/Python/scrapegoodreads/.env/lib/python3.10/site-packages/selenium/webdriver/remote/webdriver.py?line=919'>920</a>\u001b[0m \n\u001b[0;32m   (...)\u001b[0m\n\u001b[1;32m    <a href='file:///~/Developer/Python/scrapegoodreads/.env/lib/python3.10/site-packages/selenium/webdriver/remote/webdriver.py?line=923'>924</a>\u001b[0m \u001b[39m            driver.page_source\u001b[39;00m\n\u001b[1;32m    <a href='file:///~/Developer/Python/scrapegoodreads/.env/lib/python3.10/site-packages/selenium/webdriver/remote/webdriver.py?line=924'>925</a>\u001b[0m \u001b[39m    \"\"\"\u001b[39;00m\n\u001b[0;32m--> <a href='file:///~/Developer/Python/scrapegoodreads/.env/lib/python3.10/site-packages/selenium/webdriver/remote/webdriver.py?line=925'>926</a>\u001b[0m     \u001b[39mreturn\u001b[39;00m \u001b[39mself\u001b[39;49m\u001b[39m.\u001b[39;49mexecute(Command\u001b[39m.\u001b[39;49mGET_PAGE_SOURCE)[\u001b[39m'\u001b[39m\u001b[39mvalue\u001b[39m\u001b[39m'\u001b[39m]\n",
      "File \u001b[0;32m~/Developer/Python/scrapegoodreads/.env/lib/python3.10/site-packages/selenium/webdriver/remote/webdriver.py:424\u001b[0m, in \u001b[0;36mWebDriver.execute\u001b[0;34m(self, driver_command, params)\u001b[0m\n\u001b[1;32m    <a href='file:///~/Developer/Python/scrapegoodreads/.env/lib/python3.10/site-packages/selenium/webdriver/remote/webdriver.py?line=421'>422</a>\u001b[0m response \u001b[39m=\u001b[39m \u001b[39mself\u001b[39m\u001b[39m.\u001b[39mcommand_executor\u001b[39m.\u001b[39mexecute(driver_command, params)\n\u001b[1;32m    <a href='file:///~/Developer/Python/scrapegoodreads/.env/lib/python3.10/site-packages/selenium/webdriver/remote/webdriver.py?line=422'>423</a>\u001b[0m \u001b[39mif\u001b[39;00m response:\n\u001b[0;32m--> <a href='file:///~/Developer/Python/scrapegoodreads/.env/lib/python3.10/site-packages/selenium/webdriver/remote/webdriver.py?line=423'>424</a>\u001b[0m     \u001b[39mself\u001b[39;49m\u001b[39m.\u001b[39;49merror_handler\u001b[39m.\u001b[39;49mcheck_response(response)\n\u001b[1;32m    <a href='file:///~/Developer/Python/scrapegoodreads/.env/lib/python3.10/site-packages/selenium/webdriver/remote/webdriver.py?line=424'>425</a>\u001b[0m     response[\u001b[39m'\u001b[39m\u001b[39mvalue\u001b[39m\u001b[39m'\u001b[39m] \u001b[39m=\u001b[39m \u001b[39mself\u001b[39m\u001b[39m.\u001b[39m_unwrap_value(\n\u001b[1;32m    <a href='file:///~/Developer/Python/scrapegoodreads/.env/lib/python3.10/site-packages/selenium/webdriver/remote/webdriver.py?line=425'>426</a>\u001b[0m         response\u001b[39m.\u001b[39mget(\u001b[39m'\u001b[39m\u001b[39mvalue\u001b[39m\u001b[39m'\u001b[39m, \u001b[39mNone\u001b[39;00m))\n\u001b[1;32m    <a href='file:///~/Developer/Python/scrapegoodreads/.env/lib/python3.10/site-packages/selenium/webdriver/remote/webdriver.py?line=426'>427</a>\u001b[0m     \u001b[39mreturn\u001b[39;00m response\n",
      "File \u001b[0;32m~/Developer/Python/scrapegoodreads/.env/lib/python3.10/site-packages/selenium/webdriver/remote/errorhandler.py:247\u001b[0m, in \u001b[0;36mErrorHandler.check_response\u001b[0;34m(self, response)\u001b[0m\n\u001b[1;32m    <a href='file:///~/Developer/Python/scrapegoodreads/.env/lib/python3.10/site-packages/selenium/webdriver/remote/errorhandler.py?line=244'>245</a>\u001b[0m         alert_text \u001b[39m=\u001b[39m value[\u001b[39m'\u001b[39m\u001b[39malert\u001b[39m\u001b[39m'\u001b[39m]\u001b[39m.\u001b[39mget(\u001b[39m'\u001b[39m\u001b[39mtext\u001b[39m\u001b[39m'\u001b[39m)\n\u001b[1;32m    <a href='file:///~/Developer/Python/scrapegoodreads/.env/lib/python3.10/site-packages/selenium/webdriver/remote/errorhandler.py?line=245'>246</a>\u001b[0m     \u001b[39mraise\u001b[39;00m exception_class(message, screen, stacktrace, alert_text)  \u001b[39m# type: ignore[call-arg]  # mypy is not smart enough here\u001b[39;00m\n\u001b[0;32m--> <a href='file:///~/Developer/Python/scrapegoodreads/.env/lib/python3.10/site-packages/selenium/webdriver/remote/errorhandler.py?line=246'>247</a>\u001b[0m \u001b[39mraise\u001b[39;00m exception_class(message, screen, stacktrace)\n",
      "\u001b[0;31mInvalidSessionIdException\u001b[0m: Message: \n"
     ]
    }
   ],
   "source": [
    "soup = BeautifulSoup(driver.page_source)\n",
    "# then get all books\n"
   ]
  },
  {
   "cell_type": "code",
   "execution_count": 74,
   "metadata": {},
   "outputs": [],
   "source": [
    "driver.close()\n"
   ]
  }
 ],
 "metadata": {
  "interpreter": {
   "hash": "c7cb6f94797a3d546834b07d7493a03dd770167f4d2c64ab643efbb12781df70"
  },
  "kernelspec": {
   "display_name": "Python 3.10.1 ('.env': venv)",
   "language": "python",
   "name": "python3"
  },
  "language_info": {
   "codemirror_mode": {
    "name": "ipython",
    "version": 3
   },
   "file_extension": ".py",
   "mimetype": "text/x-python",
   "name": "python",
   "nbconvert_exporter": "python",
   "pygments_lexer": "ipython3",
   "version": "3.10.1"
  },
  "orig_nbformat": 4
 },
 "nbformat": 4,
 "nbformat_minor": 2
}
