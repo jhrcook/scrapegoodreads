{
 "cells": [
  {
   "cell_type": "code",
   "execution_count": 1,
   "metadata": {},
   "outputs": [],
   "source": [
    "import re\n",
    "import time\n",
    "\n",
    "from bs4 import BeautifulSoup\n",
    "from selenium import webdriver"
   ]
  },
  {
   "cell_type": "code",
   "execution_count": 2,
   "metadata": {},
   "outputs": [],
   "source": [
    "driver = webdriver.Safari()\n",
    "driver.get(\"https://www.goodreads.com/review/list/144433284?ref=nav_mybooks\")"
   ]
  },
  {
   "cell_type": "code",
   "execution_count": 3,
   "metadata": {},
   "outputs": [],
   "source": [
    "def infinite_scroll_status(soup: BeautifulSoup) -> tuple[int, int]:\n",
    "    status = soup.find(id=\"infiniteStatus\").text.strip()\n",
    "    nums = [int(x) for x in re.findall(\"[0-9]+\", status)]\n",
    "    assert len(nums) == 2\n",
    "    return (nums[0], nums[1])"
   ]
  },
  {
   "cell_type": "code",
   "execution_count": 4,
   "metadata": {},
   "outputs": [
    {
     "name": "stdout",
     "output_type": "stream",
     "text": [
      "Scrolling #0...\n",
      "Scrolling #1...\n",
      "Scrolling #2...\n",
      "Scrolling #3...\n",
      "Scrolling #4...\n",
      "Scrolling #5...\n",
      "Scrolling #6...\n",
      "Scrolling #7...\n",
      "Finish scrolling!\n"
     ]
    }
   ],
   "source": [
    "for i in range(50):\n",
    "    print(f\"Scrolling #{i}...\")\n",
    "    driver.execute_script(\"window.scrollTo(1,50000)\")\n",
    "    current_i, total = infinite_scroll_status(BeautifulSoup(driver.page_source))\n",
    "    if current_i == total:\n",
    "        print(\"Finish scrolling!\")\n",
    "        break\n",
    "    time.sleep(2)"
   ]
  },
  {
   "cell_type": "code",
   "execution_count": 5,
   "metadata": {},
   "outputs": [],
   "source": [
    "soup = BeautifulSoup(driver.page_source)\n",
    "# then get all books"
   ]
  },
  {
   "cell_type": "code",
   "execution_count": 6,
   "metadata": {},
   "outputs": [],
   "source": [
    "driver.close()"
   ]
  }
 ],
 "metadata": {
  "interpreter": {
   "hash": "c7cb6f94797a3d546834b07d7493a03dd770167f4d2c64ab643efbb12781df70"
  },
  "kernelspec": {
   "display_name": "Python 3.10.1 ('.env': venv)",
   "language": "python",
   "name": "python3"
  },
  "language_info": {
   "codemirror_mode": {
    "name": "ipython",
    "version": 3
   },
   "file_extension": ".py",
   "mimetype": "text/x-python",
   "name": "python",
   "nbconvert_exporter": "python",
   "pygments_lexer": "ipython3",
   "version": "3.10.1"
  },
  "orig_nbformat": 4
 },
 "nbformat": 4,
 "nbformat_minor": 2
}
