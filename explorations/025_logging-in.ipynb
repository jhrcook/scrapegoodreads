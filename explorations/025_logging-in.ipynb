{
 "cells": [
  {
   "cell_type": "code",
   "execution_count": 1,
   "metadata": {},
   "outputs": [],
   "source": [
    "%load_ext autoreload\n",
    "%autoreload 2"
   ]
  },
  {
   "cell_type": "code",
   "execution_count": 2,
   "metadata": {},
   "outputs": [],
   "source": [
    "from selenium.webdriver.common.by import By\n",
    "\n",
    "from scrapegoodreads import GOODREADS_URLS\n",
    "from scrapegoodreads.webscraping_helpers import brave_driver"
   ]
  },
  {
   "cell_type": "code",
   "execution_count": null,
   "metadata": {},
   "outputs": [],
   "source": [
    "driver = brave_driver()"
   ]
  },
  {
   "cell_type": "code",
   "execution_count": 16,
   "metadata": {},
   "outputs": [],
   "source": [
    "driver.get(GOODREADS_URLS[\"sign-in\"])"
   ]
  },
  {
   "cell_type": "code",
   "execution_count": 20,
   "metadata": {},
   "outputs": [],
   "source": [
    "email_element = driver.find_element(By.ID, \"user_email\")\n",
    "password_element = driver.find_element(By.ID, \"user_password\")"
   ]
  },
  {
   "cell_type": "code",
   "execution_count": 24,
   "metadata": {},
   "outputs": [],
   "source": [
    "email_element.clear(), password_element.clear()\n",
    "email_element.send_keys(\"my-email@example.com\")\n",
    "password_element.send_keys(\"password\")"
   ]
  },
  {
   "cell_type": "code",
   "execution_count": 35,
   "metadata": {},
   "outputs": [],
   "source": [
    "remember_me_button = driver.find_element(By.ID, \"remember_me\")\n",
    "if not remember_me_button.is_selected():\n",
    "    remember_me_button.click()"
   ]
  },
  {
   "cell_type": "code",
   "execution_count": 36,
   "metadata": {},
   "outputs": [],
   "source": [
    "submit_button = driver.find_element(By.NAME, \"next\")\n",
    "submit_button.click()"
   ]
  }
 ],
 "metadata": {
  "interpreter": {
   "hash": "c7cb6f94797a3d546834b07d7493a03dd770167f4d2c64ab643efbb12781df70"
  },
  "kernelspec": {
   "display_name": "Python 3.10.1 ('.env': venv)",
   "language": "python",
   "name": "python3"
  },
  "language_info": {
   "codemirror_mode": {
    "name": "ipython",
    "version": 3
   },
   "file_extension": ".py",
   "mimetype": "text/x-python",
   "name": "python",
   "nbconvert_exporter": "python",
   "pygments_lexer": "ipython3",
   "version": "3.10.1"
  },
  "orig_nbformat": 4
 },
 "nbformat": 4,
 "nbformat_minor": 2
}
