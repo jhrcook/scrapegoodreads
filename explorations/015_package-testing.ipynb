{
 "cells": [
  {
   "cell_type": "code",
   "execution_count": 1,
   "metadata": {},
   "outputs": [],
   "source": [
    "%load_ext autoreload\n",
    "%autoreload 2"
   ]
  },
  {
   "cell_type": "code",
   "execution_count": 2,
   "metadata": {},
   "outputs": [],
   "source": [
    "from datetime import date\n",
    "from pprint import pprint\n",
    "from typing import Optional\n",
    "\n",
    "from scrapegoodreads import books\n",
    "from scrapegoodreads.webscraping_helpers import WebRequestMethod"
   ]
  },
  {
   "cell_type": "code",
   "execution_count": 3,
   "metadata": {},
   "outputs": [],
   "source": [
    "JHC_ID = \"144433284\""
   ]
  },
  {
   "cell_type": "code",
   "execution_count": 4,
   "metadata": {},
   "outputs": [],
   "source": [
    "soup_shelf = books.beautiful_book_list(user_id=JHC_ID)"
   ]
  },
  {
   "cell_type": "code",
   "execution_count": 5,
   "metadata": {},
   "outputs": [
    {
     "data": {
      "text/plain": [
       "228"
      ]
     },
     "execution_count": 5,
     "metadata": {},
     "output_type": "execute_result"
    }
   ],
   "source": [
    "book_shelf = books.parse_book_shelf(soup_shelf)\n",
    "len(book_shelf)"
   ]
  },
  {
   "cell_type": "code",
   "execution_count": 6,
   "metadata": {},
   "outputs": [
    {
     "name": "stdout",
     "output_type": "stream",
     "text": [
      "{'asin': None,\n",
      " 'author': 'North, Sterling',\n",
      " 'author_url': '/author/show/43889.Sterling_North',\n",
      " 'avg_rating': 4.15,\n",
      " 'book_url': '/book/show/967511.Rascal',\n",
      " 'cover_url': 'https://i.gr-assets.com/images/S/compressed.photo.goodreads.com/books/1309211625l/967511._SY75_.jpg',\n",
      " 'date_pub': datetime.date(1963, 1, 1),\n",
      " 'date_pub_edition': datetime.date(1998, 4, 28),\n",
      " 'full_title': 'Rascal',\n",
      " 'isbn': '0140344454',\n",
      " 'isbn13': '9780140344455',\n",
      " 'num_ratings': 12763,\n",
      " 'rating': 5,\n",
      " 'show_title': 'Rascal'}\n"
     ]
    }
   ],
   "source": [
    "rascal = list(filter(lambda b: b.full_title == \"Rascal\", book_shelf))[0]\n",
    "pprint(rascal.dict())"
   ]
  },
  {
   "cell_type": "code",
   "execution_count": 7,
   "metadata": {},
   "outputs": [
    {
     "name": "stdout",
     "output_type": "stream",
     "text": [
      "⭐️⭐️⭐️⭐️⭐️ A Farewell to Arms\n",
      "⭐️⭐️⭐️⭐️  The Sun Also Rises\n",
      "⭐️⭐️⭐️⭐️⭐️ The Old Man and the Sea\n"
     ]
    }
   ],
   "source": [
    "def _make_stars(n_stars: Optional[int]) -> str:\n",
    "    if n_stars is None:\n",
    "        return \"not read\"\n",
    "    return \"⭐️\" * n_stars + \" \" * (5 - n_stars)\n",
    "\n",
    "\n",
    "hemingway = filter(\n",
    "    lambda b: \"hemingway\" in b.author.lower() and b.rating is not None, book_shelf\n",
    ")\n",
    "for eh in hemingway:\n",
    "    print(f\"{_make_stars(eh.rating)} {eh.show_title}\")"
   ]
  },
  {
   "cell_type": "code",
   "execution_count": 8,
   "metadata": {},
   "outputs": [
    {
     "data": {
      "text/plain": [
       "30"
      ]
     },
     "execution_count": 8,
     "metadata": {},
     "output_type": "execute_result"
    }
   ],
   "source": [
    "soup_shelf_limited = books.beautiful_book_list(\n",
    "    user_id=\"144433284\", method=WebRequestMethod.REQUESTS\n",
    ")\n",
    "book_shelf_limited = books.parse_book_shelf(soup_shelf_limited)\n",
    "len(book_shelf_limited)"
   ]
  },
  {
   "cell_type": "code",
   "execution_count": 9,
   "metadata": {},
   "outputs": [
    {
     "name": "stdout",
     "output_type": "stream",
     "text": [
      "'Twelve Years a Slave' by Northup, Solomon\n",
      "'The Elements of Style' by Strunk Jr., William\n",
      "'Man's Search for Meaning' by Frankl, Viktor E.\n",
      "'The Old Man and the Sea' by Hemingway, Ernest\n",
      "'Capitalism and Freedom' by Friedman, Milton\n",
      "'Rascal' by North, Sterling\n",
      "'The Design of Everyday Things' by Norman, Donald A.\n",
      "'The Mental Game of Baseball: A Guide to Peak Performance' by Dorfman, H.A.\n",
      "'Happiness Is a Serious Problem: A Human Nature Repair Manual' by Prager, Dennis\n"
     ]
    }
   ],
   "source": [
    "greats_soup_shelf = books.beautiful_book_list(user_id=JHC_ID, shelf=\"greats\")\n",
    "greats_book_shelf = books.parse_book_shelf(greats_soup_shelf)\n",
    "greats_book_shelf.sort(key=lambda b: b.date_pub or date.today())\n",
    "for book in greats_book_shelf:\n",
    "    print(f\"'{book.show_title}' by {book.author}\")"
   ]
  },
  {
   "cell_type": "code",
   "execution_count": null,
   "metadata": {},
   "outputs": [],
   "source": []
  }
 ],
 "metadata": {
  "interpreter": {
   "hash": "c7cb6f94797a3d546834b07d7493a03dd770167f4d2c64ab643efbb12781df70"
  },
  "kernelspec": {
   "display_name": "Python 3.10.1 ('.env': venv)",
   "language": "python",
   "name": "python3"
  },
  "language_info": {
   "codemirror_mode": {
    "name": "ipython",
    "version": 3
   },
   "file_extension": ".py",
   "mimetype": "text/x-python",
   "name": "python",
   "nbconvert_exporter": "python",
   "pygments_lexer": "ipython3",
   "version": "3.10.1"
  },
  "orig_nbformat": 4
 },
 "nbformat": 4,
 "nbformat_minor": 2
}
