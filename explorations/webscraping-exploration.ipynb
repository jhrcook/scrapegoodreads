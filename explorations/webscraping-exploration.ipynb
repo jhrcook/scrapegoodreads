{
 "cells": [
  {
   "cell_type": "code",
   "execution_count": 23,
   "metadata": {},
   "outputs": [],
   "source": [
    "%load_ext autoreload\n",
    "%autoreload 2"
   ]
  },
  {
   "cell_type": "markdown",
   "metadata": {},
   "source": [
    "# Explorations of web-scraping Goodreads website"
   ]
  },
  {
   "cell_type": "code",
   "execution_count": 42,
   "metadata": {},
   "outputs": [],
   "source": [
    "import requests\n",
    "from bs4 import BeautifulSoup\n",
    "from bs4.element import Tag\n",
    "from pydantic import BaseModel"
   ]
  },
  {
   "cell_type": "code",
   "execution_count": 25,
   "metadata": {},
   "outputs": [
    {
     "data": {
      "text/plain": [
       "200"
      ]
     },
     "execution_count": 25,
     "metadata": {},
     "output_type": "execute_result"
    }
   ],
   "source": [
    "USERID = 144433284\n",
    "BASE_URL = \"https://www.goodreads.com/review/list/\"\n",
    "res = requests.get(BASE_URL + str(\"144433284\"), params={\"ref\": \"nav_mybooks\", \"per_page\": \"10\"})\n",
    "res.status_code"
   ]
  },
  {
   "cell_type": "code",
   "execution_count": 26,
   "metadata": {},
   "outputs": [],
   "source": [
    "books_soup = BeautifulSoup(res.content, \"html.parser\")"
   ]
  },
  {
   "cell_type": "code",
   "execution_count": 27,
   "metadata": {},
   "outputs": [],
   "source": [
    "books_table = books_soup.find(\"table\", id=\"books\")"
   ]
  },
  {
   "cell_type": "code",
   "execution_count": 28,
   "metadata": {},
   "outputs": [
    {
     "data": {
      "text/plain": [
       "['#',\n",
       " 'cover',\n",
       " 'title',\n",
       " 'author',\n",
       " 'isbn',\n",
       " 'isbn13',\n",
       " 'asin',\n",
       " 'pages',\n",
       " 'rating',\n",
       " 'ratings',\n",
       " 'pub',\n",
       " '(ed.)',\n",
       " 'rating',\n",
       " 'my rating',\n",
       " 'review',\n",
       " 'notes',\n",
       " 'recommender',\n",
       " 'comments',\n",
       " 'votes',\n",
       " 'count',\n",
       " 'started',\n",
       " 'read',\n",
       " 'added',\n",
       " 'purchased',\n",
       " 'owned',\n",
       " 'location',\n",
       " 'condition',\n",
       " 'format']"
      ]
     },
     "execution_count": 28,
     "metadata": {},
     "output_type": "execute_result"
    }
   ],
   "source": [
    "table_header = [x.strip() for x in books_table.find(\"tr\", id=\"booksHeader\").text.splitlines()]\n",
    "table_header = [x for x in table_header if x != \"\"]\n",
    "table_header"
   ]
  },
  {
   "cell_type": "code",
   "execution_count": 86,
   "metadata": {},
   "outputs": [],
   "source": [
    "from typing import Any, Optional\n",
    "\n",
    "class BookData(BaseModel):\n",
    "    \"\"\"Book data.\"\"\"\n",
    "\n",
    "    book_url: str\n",
    "    cover_url: str\n",
    "    full_title: str\n",
    "    show_title: str\n",
    "    author: str\n",
    "    author_url: str\n",
    "    isbn: Optional[str]\n",
    "    isbn13: Optional[str]\n",
    "    asin: Optional[str]\n",
    "    avg_rating: float\n",
    "    num_ratings: int\n",
    "\n",
    "def _search_table_row_td(tr: Tag, class_: str, find: str) -> Tag:\n",
    "    return tr.find(\"td\", class_=class_).find(find)\n",
    "\n",
    "def _get_table_row_td_value(tr: Tag, class_: str) -> str:\n",
    "    return tr.find(class_=class_).find(\"div\", class_=\"value\").text.strip()\n",
    "\n",
    "def parse_book_table_row(tr: Tag) -> BookData:\n",
    "    _data: dict[str, Any] = {}\n",
    "\n",
    "    # Cover\n",
    "    cover_url = _search_table_row_td(tr, \"field cover\", \"img\")[\"src\"]\n",
    "    _data[\"cover_url\"] = cover_url\n",
    "\n",
    "    # Title\n",
    "    title = _search_table_row_td(tr, \"field title\", \"a\")\n",
    "    _data[\"full_title\"] = title[\"title\"]\n",
    "    _data[\"show_title\"] = title.text.strip()\n",
    "    _data[\"book_url\"] = title[\"href\"]\n",
    "\n",
    "    # Author\n",
    "    author = _search_table_row_td(tr, \"field author\", \"a\")\n",
    "    _data[\"author\"] = author.text\n",
    "    _data[\"author_url\"] = author[\"href\"]\n",
    "\n",
    "    # ISBN, ISBN13, ASIN\n",
    "    for field in [\"isbn\", \"isbn13\", \"asin\", \"avg_rating\"]:\n",
    "        _d = _get_table_row_td_value(tr, class_=f\"field {field}\")\n",
    "        _data[field] = None if _d == \"\" else _d\n",
    "    \n",
    "    # Number of ratings\n",
    "    n_ratings = _get_table_row_td_value(tr, class_=f\"field num_ratings\")\n",
    "    _data[\"num_ratings\"] = n_ratings.replace(\",\", \"\")\n",
    "    return BookData(**_data)\n",
    "    "
   ]
  },
  {
   "cell_type": "code",
   "execution_count": 87,
   "metadata": {},
   "outputs": [
    {
     "name": "stdout",
     "output_type": "stream",
     "text": [
      "30\n",
      "book_url='/book/show/42683.On_Writing' cover_url='https://i.gr-assets.com/images/S/compressed.photo.goodreads.com/books/1435405010l/42683._SY75_.jpg' full_title='On Writing' show_title='On Writing' author='Hemingway, Ernest' author_url='/author/show/1455.Ernest_Hemingway' isbn='0684854295' isbn13='9780684854298' asin=None avg_rating=4.04 num_ratings=3759\n"
     ]
    }
   ],
   "source": [
    "table_body = books_table.find(\"tbody\", id=\"booksBody\")\n",
    "book_datas: list[BookData] = []\n",
    "for table_row in table_body.find_all(\"tr\"):\n",
    "    book_datas.append(parse_book_table_row(table_row))\n",
    "\n",
    "print(len(book_datas))\n",
    "print(book_datas[0])"
   ]
  },
  {
   "cell_type": "code",
   "execution_count": null,
   "metadata": {},
   "outputs": [],
   "source": []
  }
 ],
 "metadata": {
  "interpreter": {
   "hash": "c7cb6f94797a3d546834b07d7493a03dd770167f4d2c64ab643efbb12781df70"
  },
  "kernelspec": {
   "display_name": "Python 3.10.1 ('.env': venv)",
   "language": "python",
   "name": "python3"
  },
  "language_info": {
   "codemirror_mode": {
    "name": "ipython",
    "version": 3
   },
   "file_extension": ".py",
   "mimetype": "text/x-python",
   "name": "python",
   "nbconvert_exporter": "python",
   "pygments_lexer": "ipython3",
   "version": "3.10.1"
  },
  "orig_nbformat": 4
 },
 "nbformat": 4,
 "nbformat_minor": 2
}
