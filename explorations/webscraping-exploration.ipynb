{
 "cells": [
  {
   "cell_type": "code",
   "execution_count": 23,
   "metadata": {},
   "outputs": [
    {
     "name": "stdout",
     "output_type": "stream",
     "text": [
      "The autoreload extension is already loaded. To reload it, use:\n",
      "  %reload_ext autoreload\n"
     ]
    }
   ],
   "source": [
    "%load_ext autoreload\n",
    "%autoreload 2"
   ]
  },
  {
   "cell_type": "markdown",
   "metadata": {},
   "source": [
    "# Explorations of web-scraping Goodreads website"
   ]
  },
  {
   "cell_type": "code",
   "execution_count": 24,
   "metadata": {},
   "outputs": [],
   "source": [
    "import requests\n",
    "from bs4 import BeautifulSoup\n",
    "from bs4.element import Tag\n",
    "from pydantic import BaseModel\n"
   ]
  },
  {
   "cell_type": "code",
   "execution_count": 25,
   "metadata": {},
   "outputs": [
    {
     "data": {
      "text/plain": [
       "200"
      ]
     },
     "execution_count": 25,
     "metadata": {},
     "output_type": "execute_result"
    }
   ],
   "source": [
    "USERID = 144433284\n",
    "BASE_URL = \"https://www.goodreads.com/review/list/\"\n",
    "res = requests.get(\n",
    "    BASE_URL + str(\"144433284\")\n",
    ")\n",
    "res.status_code\n"
   ]
  },
  {
   "cell_type": "code",
   "execution_count": 26,
   "metadata": {},
   "outputs": [],
   "source": [
    "books_soup = BeautifulSoup(res.content, \"html.parser\")\n"
   ]
  },
  {
   "cell_type": "code",
   "execution_count": 27,
   "metadata": {},
   "outputs": [],
   "source": [
    "books_table = books_soup.find(\"table\", id=\"books\")\n"
   ]
  },
  {
   "cell_type": "code",
   "execution_count": 28,
   "metadata": {},
   "outputs": [
    {
     "data": {
      "text/plain": [
       "['#', 'cover', 'title', 'author', 'isbn']"
      ]
     },
     "execution_count": 28,
     "metadata": {},
     "output_type": "execute_result"
    }
   ],
   "source": [
    "table_header = [\n",
    "    x.strip() for x in books_table.find(\"tr\", id=\"booksHeader\").text.splitlines()\n",
    "]\n",
    "table_header = [x for x in table_header if x != \"\"]\n",
    "table_header[:5]\n"
   ]
  },
  {
   "cell_type": "code",
   "execution_count": 29,
   "metadata": {},
   "outputs": [],
   "source": [
    "from typing import Any, Optional\n",
    "from datetime import date, datetime\n",
    "\n",
    "class BookData(BaseModel):\n",
    "    \"\"\"Book data.\"\"\"\n",
    "\n",
    "    book_url: str\n",
    "    cover_url: str\n",
    "    full_title: str\n",
    "    show_title: str\n",
    "    author: str\n",
    "    author_url: str\n",
    "    isbn: Optional[str]\n",
    "    isbn13: Optional[str]\n",
    "    asin: Optional[str]\n",
    "    avg_rating: float\n",
    "    num_ratings: int\n",
    "    date_pub: Optional[date]\n",
    "    date_pub_edition: Optional[date]\n",
    "    rating: Optional[int]\n",
    "    # shelves\n",
    "\n",
    "class UnknownDateFormatException(BaseException):\n",
    "    \"\"\"Unknown date format.\"\"\"\n",
    "\n",
    "    ...\n",
    "\n",
    "def _search_table_row_td(tr: Tag, class_: str, find: str) -> Tag:\n",
    "    return tr.find(\"td\", class_=class_).find(find)\n",
    "\n",
    "def _get_table_row_td_value(tr: Tag, class_: str) -> str:\n",
    "    return tr.find(class_=class_).find(\"div\", class_=\"value\").text.strip()\n",
    "\n",
    "def _parse_dates(date_str: str) -> Optional[date]:\n",
    "    if date_str == \"unknown\":\n",
    "        return None\n",
    "    fmt_date: Optional[date] = None\n",
    "    for fmt in [\"%b %Y\", \"%b %d, %Y\", \"%Y\"]:\n",
    "        try:\n",
    "            fmt_date = datetime.strptime(date_str, fmt).date() \n",
    "            return fmt_date\n",
    "        except ValueError:\n",
    "            pass\n",
    "    if fmt_date is None:\n",
    "        raise UnknownDateFormatException(date_str)\n",
    "\n",
    "def _extract_star_rating(star_tag: Optional[Tag]) -> int:\n",
    "    stars_on = list(star_tag.find_all(class_=\"staticStar p10\"))\n",
    "    if len(stars_on) == 0:\n",
    "        return None\n",
    "    return len(stars_on)\n",
    "\n",
    "def parse_book_table_row(tr: Tag) -> BookData:\n",
    "    _data: dict[str, Any] = {}\n",
    "\n",
    "    # Cover\n",
    "    cover_url = _search_table_row_td(tr, \"field cover\", \"img\")[\"src\"]\n",
    "    _data[\"cover_url\"] = cover_url\n",
    "\n",
    "    # Title\n",
    "    title = _search_table_row_td(tr, \"field title\", \"a\")\n",
    "    _data[\"full_title\"] = title[\"title\"]\n",
    "    _data[\"show_title\"] = title.text.strip()\n",
    "    _data[\"book_url\"] = title[\"href\"]\n",
    "\n",
    "    # Author\n",
    "    author = _search_table_row_td(tr, \"field author\", \"a\")\n",
    "    _data[\"author\"] = author.text\n",
    "    _data[\"author_url\"] = author[\"href\"]\n",
    "\n",
    "    # ISBN, ISBN13, ASIN, average rating\n",
    "    for field in [\"isbn\", \"isbn13\", \"asin\", \"avg_rating\"]:\n",
    "        d = _get_table_row_td_value(tr, class_=f\"field {field}\")\n",
    "        _data[field] = None if d == \"\" else d\n",
    "    \n",
    "    # Number of ratings\n",
    "    n_ratings = _get_table_row_td_value(tr, class_=f\"field num_ratings\")\n",
    "    _data[\"num_ratings\"] = n_ratings.replace(\",\", \"\")\n",
    "\n",
    "    # Date published, date published (edition)\n",
    "    for field in [\"date_pub\", \"date_pub_edition\"]:\n",
    "        d = _get_table_row_td_value(tr, class_=f\"field {field}\")\n",
    "        _data[field] = _parse_dates(d)\n",
    "    \n",
    "    _data[\"rating\"] = _extract_star_rating(tr.find(\"td\", \"field rating\"))\n",
    "    \n",
    "    return BookData(**_data)"
   ]
  },
  {
   "cell_type": "code",
   "execution_count": 30,
   "metadata": {},
   "outputs": [
    {
     "name": "stdout",
     "output_type": "stream",
     "text": [
      "30\n",
      "book_url='/book/show/21563974-the-world-atlas-of-coffee' cover_url='https://i.gr-assets.com/images/S/compressed.photo.goodreads.com/books/1403197222l/21563974._SX50_.jpg' full_title='The World Atlas of Coffee: From Beans to Brewing -- Coffees Explored, Explained and Enjoyed' show_title='The World Atlas of Coffee: From Beans to Brewing -- Coffees Explored, Explained and Enjoyed' author='Hoffmann, James' author_url='/author/show/205889.James_Hoffmann' isbn='1770854703' isbn13='9781770854703' asin=None avg_rating=4.42 num_ratings=2065 date_pub=datetime.date(2014, 10, 1) date_pub_edition=datetime.date(2014, 11, 21) rating=None\n"
     ]
    }
   ],
   "source": [
    "table_body = books_table.find(\"tbody\", id=\"booksBody\")\n",
    "book_datas: list[BookData] = []\n",
    "for table_row in table_body.find_all(\"tr\"):\n",
    "    book_datas.append(parse_book_table_row(table_row))\n",
    "\n",
    "print(len(book_datas))\n",
    "print(book_datas[10])"
   ]
  },
  {
   "cell_type": "code",
   "execution_count": null,
   "metadata": {},
   "outputs": [],
   "source": []
  }
 ],
 "metadata": {
  "interpreter": {
   "hash": "c7cb6f94797a3d546834b07d7493a03dd770167f4d2c64ab643efbb12781df70"
  },
  "kernelspec": {
   "display_name": "Python 3.10.1 ('.env': venv)",
   "language": "python",
   "name": "python3"
  },
  "language_info": {
   "codemirror_mode": {
    "name": "ipython",
    "version": 3
   },
   "file_extension": ".py",
   "mimetype": "text/x-python",
   "name": "python",
   "nbconvert_exporter": "python",
   "pygments_lexer": "ipython3",
   "version": "3.10.1"
  },
  "orig_nbformat": 4
 },
 "nbformat": 4,
 "nbformat_minor": 2
}
